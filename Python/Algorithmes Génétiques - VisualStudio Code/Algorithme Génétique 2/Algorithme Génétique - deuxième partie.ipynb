{
 "cells": [
  {
   "cell_type": "markdown",
   "metadata": {},
   "source": [
    "# Algorithme génétique - Exercice noté (Obligatoire)\n",
    "\n",
    "### Objectif de l'exercice\n",
    "\n",
    "En achevant le TD Algorithme Génétique sur les chaînes de caractères, vous avez montré votre compréhension du fonctionnement d'un AG, de la création de la population initiale à l'obtention d'un individu parfaitement adapté, en passant par les étapes successives de Crossover et de Mutation.\n",
    "\n",
    "Ici, le but est le même, obtenir une réponse parfaite à un problème, mais dans ce cas, vous ne connaîtrez pas la cible à atteindre.\n",
    "\n",
    "Il vous est fourni (Drive du cours \"TD/AG - Seconde partie - Supports\") un fichier nominatif qui constituera l'essentiel de l'énoncé.\n",
    "\n",
    "Vos fichiers sont composés de 10000 lignes, chacune comprenant 31 valeurs, de x0 à x29 et y.\n",
    "\n",
    "Pour chaque fichier, une équation à 30 inconnues (notées c0 à c29) a été définie. Chaque ligne est une configuration valide des x et y telle que :\n",
    "\\begin{equation*}\n",
    "\\sum_{i=0}^{29} c_i*x_i = y\n",
    "\\end{equation*}\n",
    "\n",
    "Votre travail dans ce TD consiste à retrouver votre liste de coefficients (c0 à c29).\n",
    "\n",
    "### Méthodes\n",
    "\n",
    "Il vous est fortement recommandé de reprendre vos codes du TD précédent, et de l'adapter.\n",
    "\n",
    "Vous devez estimer vous-mêmes la manière d'exploiter le fichier fourni.\n",
    "\n",
    "Par ailleurs, la notation est séparée en deux parties. La première consiste en l'adaptation de votre code précédent à ce problème (15 points) tandis que la seconde demande juste la liste de vos coefficients (5 points). L'ensemble est noté sur 20."
   ]
  },
  {
   "cell_type": "code",
   "execution_count": 9,
   "metadata": {
    "tags": []
   },
   "outputs": [],
   "source": [
    "# tous les imports de ce TD devront être placés ici\n",
    "\n",
    "#Biblio###################\"\"\n",
    "import random\n",
    "import csv\n",
    "\n",
    "#PARAMETRAGE####################\n",
    "NMBRLISTES = 5\n",
    "MUTATIONPROB = 0.25\n",
    "ERROR = \"\"\n",
    "COUNTLINE = 0\n",
    "\n",
    "#Récupération des données csv####################\n",
    "csvData = []\n",
    "flag = -1\n",
    "with open ('Courtecuisse.csv', newline='') as csvFile:\n",
    "    spamreader = csv.reader(csvFile, delimiter=\",\")\n",
    "    #On pend les 30 premières lignes\n",
    "    for row in spamreader :\n",
    "        if flag == 0 and COUNTLINE < 1000:\n",
    "            csvData.append(row)\n",
    "            COUNTLINE = COUNTLINE + 1\n",
    "        else :\n",
    "            flag = 0\n",
    "\n",
    "#print(csvData)"
   ]
  },
  {
   "cell_type": "markdown",
   "metadata": {},
   "source": [
    "### Création des méthodes\n",
    "\n",
    "#### Initialisation, calcul de distance et localisation du meilleur individu\n"
   ]
  },
  {
   "cell_type": "code",
   "execution_count": 10,
   "metadata": {
    "tags": []
   },
   "outputs": [],
   "source": [
    "def get_distance(csvData,randomCoeffList):\n",
    "    total = 0\n",
    "    for row in csvData:\n",
    "        liste = row\n",
    "        calcul = 0\n",
    "        for column in range(30):\n",
    "            calcul = calcul + randomCoeffList[column] * int(liste[column])\n",
    "        total = total + abs(calcul - int(liste[30]))\n",
    "\n",
    "    return total \n",
    "#-------------------------------\n",
    "#popinit = init_population(1)\n",
    "#print(get_distance(csvData,popinit))"
   ]
  },
  {
   "cell_type": "code",
   "execution_count": 11,
   "metadata": {
    "tags": []
   },
   "outputs": [],
   "source": [
    "def get_best(csvData,population):\n",
    "    val_min = -1\n",
    "    for i in range(NMBRLISTES):\n",
    "        distance = get_distance(csvData,population[i])\n",
    "        if val_min == -1 or distance < val_min :\n",
    "            val_min = distance\n",
    "            bestList = population[i]\n",
    "    return bestList\n",
    "    \n",
    "#-------------------------------\n",
    "#popinit = init_population(NMBRLISTES)\n",
    "#print(popinit)\n",
    "#print(\"\\n\")\n",
    "#print(get_best(csvData,popinit))"
   ]
  },
  {
   "cell_type": "code",
   "execution_count": 12,
   "metadata": {
    "tags": []
   },
   "outputs": [],
   "source": [
    "def init_population():\n",
    "    liste = []\n",
    "    for i in range(NMBRLISTES):\n",
    "        new = []\n",
    "        for j in range(30):\n",
    "            new.append(random.randint(-1000,1000))\n",
    "        liste.append(new)\n",
    "    print(ERROR)\n",
    "\n",
    "    return liste\n",
    "#-------------------------------\n",
    "#print(init_population())"
   ]
  },
  {
   "cell_type": "markdown",
   "metadata": {},
   "source": [
    "#### Passage d'une génération à une autre\n"
   ]
  },
  {
   "cell_type": "code",
   "execution_count": 13,
   "metadata": {
    "tags": []
   },
   "outputs": [],
   "source": [
    "def crossover(liste1, liste2):\n",
    "    liste = []\n",
    "    \n",
    "    for i in range(30) :\n",
    "        if random.random() > 0.5 :  # 1/2 chances de prendre le coeff de l'un ou l'autre liste\n",
    "            liste.append(liste1[i])\n",
    "        else :\n",
    "            liste.append(liste2[i])\n",
    "    return liste\n",
    "#-------------------------------\n",
    "#pop1 = init_population(1)\n",
    "#print(pop1)\n",
    "#print(\"\\n\")\n",
    "#pop2 = init_population(1)\n",
    "#print(pop2)\n",
    "#print(\"\\n\")\n",
    "#print(crossover(pop1,pop2))"
   ]
  },
  {
   "cell_type": "code",
   "execution_count": 14,
   "metadata": {
    "tags": []
   },
   "outputs": [],
   "source": [
    "def new_generation(total_List, best_list):\n",
    "    newList = []\n",
    "\n",
    "    for i in total_List:\n",
    "        newList.append(crossover(best_list, i))\n",
    "\n",
    "    return newList\n",
    "#-------------------------------\n",
    "#pop = init_population(NMBRLISTES)\n",
    "#bestList = get_best(csvData,pop)\n",
    "#print(new_generation(pop,bestList))"
   ]
  },
  {
   "cell_type": "markdown",
   "metadata": {},
   "source": [
    "#### Créer la diversité génétique"
   ]
  },
  {
   "cell_type": "code",
   "execution_count": 15,
   "metadata": {
    "tags": []
   },
   "outputs": [],
   "source": [
    "def mutation(data_base,distance):   #La proba de mutation s'adapte a la distance avec le résultat \n",
    "    if distance > 35000000 :\n",
    "        if random.random() < 0.15 :\n",
    "            data_base = []\n",
    "            for i in range(30):\n",
    "                data_base.append(random.randint(-1000, 1000))\n",
    "    else :\n",
    "        if random.random() < 0.95 :\n",
    "            data_base = []\n",
    "            for i in range(30):\n",
    "                data_base.append(random.randint(-1000, 1000))\n",
    "    return data_base\n",
    "#-------------------------------\n",
    "#pop = init_population(NMBRLISTES)\n",
    "#bestList = get_best(csvData,pop)\n",
    "#newGen = new_generation(pop,bestList)\n",
    "#print(newGen)\n",
    "#print(\"\\n\")\n",
    "#print(mutation(newGen))"
   ]
  },
  {
   "cell_type": "code",
   "execution_count": 16,
   "metadata": {
    "tags": []
   },
   "outputs": [
    {
     "output_type": "stream",
     "name": "stdout",
     "text": "\n"
    },
    {
     "output_type": "error",
     "ename": "NameError",
     "evalue": "name 'dist' is not defined",
     "traceback": [
      "\u001b[1;31m---------------------------------------------------------------------------\u001b[0m",
      "\u001b[1;31mNameError\u001b[0m                                 Traceback (most recent call last)",
      "\u001b[1;32m<ipython-input-16-ac67d7613c69>\u001b[0m in \u001b[0;36m<module>\u001b[1;34m\u001b[0m\n\u001b[0;32m      4\u001b[0m \u001b[0mbest\u001b[0m \u001b[1;33m=\u001b[0m \u001b[0mget_best\u001b[0m\u001b[1;33m(\u001b[0m\u001b[0mcsvData\u001b[0m\u001b[1;33m,\u001b[0m\u001b[0mliste\u001b[0m\u001b[1;33m)\u001b[0m\u001b[1;33m\u001b[0m\u001b[1;33m\u001b[0m\u001b[0m\n\u001b[0;32m      5\u001b[0m \u001b[0mdis\u001b[0m \u001b[1;33m=\u001b[0m \u001b[1;36m1\u001b[0m\u001b[1;33m\u001b[0m\u001b[1;33m\u001b[0m\u001b[0m\n\u001b[1;32m----> 6\u001b[1;33m \u001b[1;32mwhile\u001b[0m \u001b[0mdist\u001b[0m \u001b[1;33m!=\u001b[0m \u001b[1;36m0\u001b[0m \u001b[1;33m:\u001b[0m\u001b[1;33m\u001b[0m\u001b[1;33m\u001b[0m\u001b[0m\n\u001b[0m\u001b[0;32m      7\u001b[0m     \u001b[0mi\u001b[0m \u001b[1;33m=\u001b[0m \u001b[1;36m0\u001b[0m\u001b[1;33m\u001b[0m\u001b[1;33m\u001b[0m\u001b[0m\n\u001b[0;32m      8\u001b[0m     \u001b[0mtmp\u001b[0m \u001b[1;33m=\u001b[0m \u001b[1;36m0\u001b[0m\u001b[1;33m\u001b[0m\u001b[1;33m\u001b[0m\u001b[0m\n",
      "\u001b[1;31mNameError\u001b[0m: name 'dist' is not defined"
     ]
    }
   ],
   "source": [
    "# espace de test et d'exécution final\n",
    "liste = []\n",
    "liste = init_population()\n",
    "best = get_best(csvData,liste)\n",
    "dist = 1\n",
    "while dist != 0 :\n",
    "    i = 0\n",
    "    tmp = 0\n",
    "    liste = new_generation(liste, best)\n",
    "    for i in range(NMBRLISTES) :\n",
    "        if liste[i] == best and tmp == 0 : \n",
    "            tmp = 1\n",
    "        else : \n",
    "            liste = new_generation(liste, best)\n",
    "            mut = mutation(liste[i],dist)\n",
    "            liste[i] = mut\n",
    "        i = i + 1\n",
    "    best = get_best(csvData, liste)\n",
    "    old = dist\n",
    "    dist = get_distance(csvData,best)\n",
    "    if dist != old :\n",
    "        print(dist)\n",
    "\n",
    "print(\"Le resultat est:\")\n",
    "print(best)\n",
    "#-------------------------------"
   ]
  },
  {
   "cell_type": "code",
   "execution_count": null,
   "metadata": {},
   "outputs": [],
   "source": []
  },
  {
   "cell_type": "markdown",
   "metadata": {},
   "source": [
    "Nom :\n",
    "\n",
    " -> Courtecuisse Erik\n",
    "\n",
    "Coefficients :\n",
    "\n",
    "-> [615 46 749 -469 -832 832 640 484 -460 637 270 729 748 -768 649 727 842 363 -1 -530 262 18 130 303 345 -532 -500 309 -721 911]"
   ]
  },
  {
   "cell_type": "markdown",
   "metadata": {},
   "source": [
    "IMPORTANT:\n",
    "\n",
    "Le rendu prend la forme de ce notebook, à envoyer par mail."
   ]
  }
 ],
 "metadata": {
  "kernelspec": {
   "display_name": "Python 3.8.2 32-bit",
   "language": "python",
   "name": "python38232bitc977fc1a36d340bc892d4c48f7a81f68"
  },
  "language_info": {
   "codemirror_mode": {
    "name": "ipython",
    "version": 3
   },
   "file_extension": ".py",
   "mimetype": "text/x-python",
   "name": "python",
   "nbconvert_exporter": "python",
   "pygments_lexer": "ipython3",
   "version": "3.8.2-final"
  }
 },
 "nbformat": 4,
 "nbformat_minor": 2
}